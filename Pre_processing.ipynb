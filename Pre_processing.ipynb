{
  "cells": [
    {
      "cell_type": "markdown",
      "metadata": {
        "id": "view-in-github",
        "colab_type": "text"
      },
      "source": [
        "<a href=\"https://colab.research.google.com/github/andyposbe/ColabFold-Pipeline-Toolkit/blob/main/Pre_processing.ipynb\" target=\"_parent\"><img src=\"https://colab.research.google.com/assets/colab-badge.svg\" alt=\"Open In Colab\"/></a>"
      ]
    },
    {
      "cell_type": "markdown",
      "metadata": {
        "id": "-uXNalHfQ3G2"
      },
      "source": [
        "# **ColabFold-Pipeline-Toolkit**: Pre-Processing\n",
        "<img src=\"https://github.com/andyposbe/ColabFold-Pipeline-Toolkit/blob/main/pre_processing_1.png?raw=true\" height=\"200\" align=\"right\" style=\"height:200px\">\n",
        "\n",
        "\n",
        "\n",
        "This notebook helps with file preparation for submission to [ColabFold BATCH](https://colab.research.google.com/github/sokrypton/ColabFold/blob/main/batch/AlphaFold2_batch.ipynb).\n",
        "\n",
        "## Operations covered\n",
        "\n",
        "1. Fasta combiner for AF2-Multimer\n",
        "2. Homo-multimer fasta preparation\n",
        "3. Multifasta demultiplexer\n",
        "\n",
        "\n",
        "---\n",
        "**Author:** Andres Posbeyikian\n",
        "**Date:** August 27th, 2023\n",
        "\n",
        "For more details, checkout the [ColabFold-Pipeline-Toolkit GitHub](https://github.com/andyposbe/ColabFold-Pipeline-Toolkit)\n",
        "![GitHub](https://img.shields.io/badge/github-%23121011.svg?style=plastic&logo=github&logoColor=white)\n",
        "\n",
        "To cite this toolkit, refer to this article: [10.5281/zenodo.10565786](https://doi.org/10.5281/zenodo.10565786)"
      ]
    },
    {
      "cell_type": "markdown",
      "source": [
        "# Mounting the drive and importing libraries"
      ],
      "metadata": {
        "id": "QiOFv2tGJzTG"
      }
    },
    {
      "cell_type": "code",
      "execution_count": null,
      "metadata": {
        "cellView": "form",
        "id": "liAWyy07Eqmr"
      },
      "outputs": [],
      "source": [
        "#@title Mount google drive\n",
        "from google.colab import drive\n",
        "drive.mount('/content/gdrive')"
      ]
    },
    {
      "cell_type": "code",
      "execution_count": 98,
      "metadata": {
        "cellView": "form",
        "id": "kbEtJIm8E4kq"
      },
      "outputs": [],
      "source": [
        "#@title Import libraries\n",
        "from pathlib import Path\n",
        "import glob\n",
        "import os\n",
        "import io\n",
        "import json\n",
        "import scipy\n",
        "from google.colab import files\n",
        "import numpy as np\n",
        "import numpy\n",
        "import json\n",
        "import pandas as pd\n",
        "import seaborn as sns\n",
        "import openpyxl\n",
        "import matplotlib.pyplot as plt\n",
        "import matplotlib\n",
        "import plotly.graph_objects as go\n",
        "from plotly.subplots import make_subplots\n",
        "import plotly.subplots as sp\n",
        "import plotly.express as px\n",
        "import ipywidgets as widgets"
      ]
    },
    {
      "cell_type": "markdown",
      "source": [
        "# 1. Fasta combiner for Multimer\n",
        "Execute the cells below to prepare the fasta files for input into ColabFold BATCH. Specify the Google Drive directories where each pool of proteins was uploaded."
      ],
      "metadata": {
        "id": "OqKXXxBQEnd6"
      }
    },
    {
      "cell_type": "code",
      "execution_count": 91,
      "metadata": {
        "cellView": "form",
        "id": "8yWR_DlRFDg3"
      },
      "outputs": [],
      "source": [
        "#@title Input/Output directories\n",
        "\n",
        "#Monomer_directory = '/content/drive/MyDrive/Project/monomer_fastas' # @param {type:\"string\"}\n",
        "Pool_A_directory = '/content/gdrive/MyDrive/Project/Pool_A_fastas' # @param {type:\"string\"}\n",
        "Pool_A_directory = Pool_A_directory.rstrip('/')\n",
        "Pool_B_directory = '/content/gdrive/MyDrive/Project/Pool_B_fastas' # @param {type:\"string\"}\n",
        "Pool_B_directory = Pool_B_directory.rstrip('/')\n",
        "\n",
        "output_dir = '/content/gdrive/MyDrive/Project/output' #@param {type:\"string\"}\n",
        "output_dir = output_dir.rstrip('/')"
      ]
    },
    {
      "cell_type": "code",
      "source": [
        "#@title Import the fasta files\n",
        "Pool_A_list = []\n",
        "Pool_B_list = []\n",
        "\n",
        "# Load files from each directory into lists\n",
        "for file in glob.glob(Pool_A_directory+'/*.fasta'):\n",
        "  Pool_A_list.append(file.split('/')[-1])\n",
        "\n",
        "for file in glob.glob(Pool_B_directory+'/*.fasta'):\n",
        "  Pool_B_list.append(file.split('/')[-1])\n",
        "\n",
        "Pool_A_list.sort()\n",
        "Pool_B_list.sort()"
      ],
      "metadata": {
        "cellView": "form",
        "id": "ju9CIQsXjEtg"
      },
      "execution_count": 102,
      "outputs": []
    },
    {
      "cell_type": "code",
      "source": [
        "#@title Select the proteins of interest from **Pool A**\n",
        "\n",
        "\n",
        "select_multiple_widget = widgets.SelectMultiple(\n",
        "    options= Pool_A_list,\n",
        "    description='Pool A',\n",
        "    disabled=False,\n",
        "    #ålayout=widgets.Layout(height='200px', width='auto')\n",
        ")\n",
        "# Global list to store selected items\n",
        "selected_items_list_A = []\n",
        "\n",
        "# Function to update the list based on selection\n",
        "def update_list(change):\n",
        "    global selected_items_list_A\n",
        "    selected_items_list_A = list(change['new'])\n",
        "\n",
        "# Attach the update function to the 'value' trait of the widget\n",
        "select_multiple_widget.observe(update_list, names='value')\n",
        "\n",
        "# Display the widget\n",
        "display(select_multiple_widget)"
      ],
      "metadata": {
        "cellView": "form",
        "id": "1L3IBfbGg9ml"
      },
      "execution_count": null,
      "outputs": []
    },
    {
      "cell_type": "code",
      "source": [
        "#@title Select the proteins of interest from **Pool B**\n",
        "# Create the SelectMultiple widget\n",
        "select_multiple_widget = widgets.SelectMultiple(\n",
        "    options=Pool_B_list,\n",
        "    description='Pool B',\n",
        "    disabled=False,\n",
        "    layout=widgets.Layout(height='200px', width='auto')\n",
        ")\n",
        "# Global list to store selected items\n",
        "selected_items_list_B = []\n",
        "\n",
        "# Function to update the list based on selection\n",
        "def update_list(change):\n",
        "    global selected_items_list_B\n",
        "    selected_items_list_B = list(change['new'])\n",
        "\n",
        "# Attach the update function to the 'value' trait of the widget\n",
        "select_multiple_widget.observe(update_list, names='value')\n",
        "\n",
        "# Display the widget\n",
        "display(select_multiple_widget)"
      ],
      "metadata": {
        "cellView": "form",
        "id": "QqRstgCqlrP8"
      },
      "execution_count": null,
      "outputs": []
    },
    {
      "cell_type": "code",
      "source": [
        "#@title Combine fastas for ColabFold BATCH and save to `output_dir`\n",
        "def read_single_fasta(file_path):\n",
        "    \"\"\"Reads a single-record FASTA file and returns a tuple (header, sequence).\"\"\"\n",
        "    with open(file_path, 'r') as file:\n",
        "        header = None\n",
        "        sequence = []\n",
        "\n",
        "        for line in file:\n",
        "            if line.startswith(\">\"):\n",
        "                if header is not None:\n",
        "                    break  # Stop if another header is found, assuming only one sequence in the file\n",
        "                header = line.strip()[1:]  # Remove '>' and newline\n",
        "            else:\n",
        "                sequence.append(line.strip())\n",
        "\n",
        "        return header, ''.join(sequence)\n",
        "\n",
        "\n",
        "i = 0\n",
        "for pool_A_file in selected_items_list_A:\n",
        "  header_A,sequence_A = read_single_fasta(os.path.join(Pool_A_directory,pool_A_file))\n",
        "  for pool_B_file in selected_items_list_B:\n",
        "      header_B,sequence_B = read_single_fasta(os.path.join(Pool_B_directory, pool_B_file))\n",
        "\n",
        "      fused_header = '>' + header_A + header_B\n",
        "      fused_sequence = sequence_A + ':' + sequence_B\n",
        "      output_path = os.path.join(output_dir, \"{:03d}\".format((i))+'_'+ pool_A_file.strip('.fasta') + '_' + pool_B_file)\n",
        "\n",
        "      with open(output_path, 'w') as output_file:\n",
        "        output_file.write(fused_header + '\\n')\n",
        "        output_file.write(fused_sequence)\n",
        "        i += 1\n",
        "\n",
        "\n",
        "\n"
      ],
      "metadata": {
        "cellView": "form",
        "id": "44tVBCQhoV7e"
      },
      "execution_count": 109,
      "outputs": []
    },
    {
      "cell_type": "markdown",
      "source": [
        "\n",
        "\n",
        "---\n",
        "\n"
      ],
      "metadata": {
        "id": "ngJbgkv5Iehf"
      }
    },
    {
      "cell_type": "markdown",
      "source": [
        "# 2. Homo-multimer fasta preparation\n",
        "The cells below allow preparation of homo-oligomer fasta files from simple monomer fasta files."
      ],
      "metadata": {
        "id": "ansO86IbHW6Q"
      }
    },
    {
      "cell_type": "code",
      "source": [
        "#@title Input/Output directories\n",
        "oligomeric_state = 'tetramer' # @param [\"dimer\", \"trimer\", \"tetramer\",\"pentamer\",\"hexamer\",\"heptamer\",\"octamer\",\"nonamer\",\"decamer\"]\n",
        "\n",
        "input_dir = '/content/gdrive/MyDrive/Project/input' # @param {type:\"string\"}\n",
        "input_dir = input_dir.rstrip('/')\n",
        "output_dir = '/content/gdrive/MyDrive/Project/output' #@param {type:\"string\"}\n",
        "output_dir = output_dir.rstrip('/')"
      ],
      "metadata": {
        "cellView": "form",
        "id": "k2D29GHFHkfg"
      },
      "execution_count": 116,
      "outputs": []
    },
    {
      "cell_type": "code",
      "source": [
        "#@title Import fasta files\n",
        "monomer_file_list = []\n",
        "\n",
        "# Load files from each directory into lists\n",
        "for file in glob.glob(input_dir+'/*.fasta'):\n",
        "  monomer_file_list.append(file.split('/')[-1])\n",
        "\n",
        "monomer_file_list.sort()"
      ],
      "metadata": {
        "cellView": "form",
        "id": "6eitrigF2Lpb"
      },
      "execution_count": 117,
      "outputs": []
    },
    {
      "cell_type": "code",
      "source": [
        "#@title Generate homo-oligomer fasta files and save in `output_dir`\n",
        "def read_single_fasta(file_path):\n",
        "    \"\"\"Reads a single-record FASTA file and returns a tuple (header, sequence).\"\"\"\n",
        "    with open(file_path, 'r') as file:\n",
        "        header = None\n",
        "        sequence = []\n",
        "\n",
        "        for line in file:\n",
        "            if line.startswith(\">\"):\n",
        "                if header is not None:\n",
        "                    break  # Stop if another header is found, assuming only one sequence in the file\n",
        "                header = line.strip()[1:]  # Remove '>' and newline\n",
        "            else:\n",
        "                sequence.append(line.strip())\n",
        "\n",
        "        return header, ''.join(sequence)\n",
        "\n",
        "\n",
        "oligomeric_state_dictionary = {'dimer':2,\n",
        "                               'trimer':3,\n",
        "                               'tetramer':4,\n",
        "                               'pentamer':5,\n",
        "                               'hexamer':6,\n",
        "                               'heptamer':7,\n",
        "                               'octamer': 8,\n",
        "                               'nonamer':9,\n",
        "                               'decamer':10}\n",
        "\n",
        "i = 0\n",
        "for monomer_file in monomer_file_list:\n",
        "  monomer_header,monomer_sequence = read_single_fasta(os.path.join(input_dir,monomer_file))\n",
        "\n",
        "  oligomeric_header = '>'+ monomer_header + '_' + oligomeric_state\n",
        "  oligomeric_sequence = ':'.join([monomer_sequence]*oligomeric_state_dictionary[oligomeric_state])\n",
        "  output_path = os.path.join(output_dir, \"{:03d}\".format((i))+'_'+ oligomeric_header[1:]+'.fasta')\n",
        "  with open(output_path, 'w') as output_file:\n",
        "    output_file.write(oligomeric_header + '\\n')\n",
        "    output_file.write(oligomeric_sequence)\n",
        "    i += 1\n",
        ""
      ],
      "metadata": {
        "cellView": "form",
        "id": "_oQF_0vI3KPP"
      },
      "execution_count": 122,
      "outputs": []
    },
    {
      "cell_type": "markdown",
      "source": [
        "\n",
        "\n",
        "---\n",
        "\n"
      ],
      "metadata": {
        "id": "_8dTsCOGIc06"
      }
    },
    {
      "cell_type": "markdown",
      "source": [
        "# 3. Multifasta Demultiplexer\n",
        "ColabFold BATCH reads individual fasta files, but sometimes we have a multifasta file that we need to de-multiplex in order to feed into the pipeline. The code below does just that.\n",
        "\n",
        "Specify the **directory** where you want the individual fasta files to be saved, and **upload the multifasta file below**."
      ],
      "metadata": {
        "id": "F3feGpHRF4NE"
      }
    },
    {
      "cell_type": "code",
      "source": [
        "#@title Specify output directory and execute cell to upload multifasta\n",
        "\n",
        "output_dir = '/content/gdrive/My Drive/output/' #@param {type:\"string\"}\n",
        "output_dir = output_dir.rstrip('/')\n",
        "\n",
        "# Upload the multifasta file\n",
        "from google.colab import files\n",
        "uploaded = files.upload()\n",
        "file_name = next(iter(uploaded))\n",
        "file_path = \"/content/\" + file_name"
      ],
      "metadata": {
        "cellView": "form",
        "id": "KlAoF72HIhu8"
      },
      "execution_count": null,
      "outputs": []
    },
    {
      "cell_type": "code",
      "source": [
        "#@title Demultiplex fasta file\n",
        "def demultiplex_fasta(input_file, output_dir):\n",
        "    \"\"\"\n",
        "    Reads a multi-FASTA file and creates individual FASTA files for each sequence.\n",
        "\n",
        "    Args:\n",
        "    input_file (str): Path to the multi-FASTA file.\n",
        "    output_dir (str): Directory where the individual FASTA files will be saved.\n",
        "    \"\"\"\n",
        "    import os\n",
        "    import numpy as np\n",
        "\n",
        "    # Create the output directory if it doesn't exist\n",
        "    if not os.path.exists(output_dir):\n",
        "        os.makedirs(output_dir)\n",
        "\n",
        "    with open(input_file, 'r') as file:\n",
        "        content = file.read().split('>')[1:]  # Split the file by '>' and remove the first empty string\n",
        "        record_index = 0\n",
        "        for record in content:\n",
        "            lines = record.split('\\n')\n",
        "            header = lines[0].split()[0]  # Get the first word of the header line\n",
        "            sequence = ''.join(lines[1:])  # Join the remaining lines as the sequence\n",
        "\n",
        "            output_path = os.path.join(output_dir, \"{:03d}\".format((record_index))+'_'+ header + '.fasta')\n",
        "            with open(output_path, 'w') as output_file:\n",
        "                output_file.write('>' + record)\n",
        "\n",
        "            record_index += 1\n",
        "\n",
        "demultiplex_fasta(file_path, output_dir)"
      ],
      "metadata": {
        "id": "BjzTo6hLLqT4",
        "cellView": "form"
      },
      "execution_count": 36,
      "outputs": []
    }
  ],
  "metadata": {
    "colab": {
      "provenance": [],
      "machine_shape": "hm",
      "include_colab_link": true
    },
    "kernelspec": {
      "display_name": "Python 3",
      "name": "python3"
    },
    "language_info": {
      "name": "python"
    }
  },
  "nbformat": 4,
  "nbformat_minor": 0
}
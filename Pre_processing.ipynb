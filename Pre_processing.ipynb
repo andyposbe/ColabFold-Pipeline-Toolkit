{
  "cells": [
    {
      "cell_type": "markdown",
      "metadata": {
        "id": "view-in-github",
        "colab_type": "text"
      },
      "source": [
        "<a href=\"https://colab.research.google.com/github/andyposbe/ColabFold-Pipeline-Toolkit/blob/main/Pre_processing.ipynb\" target=\"_parent\"><img src=\"https://colab.research.google.com/assets/colab-badge.svg\" alt=\"Open In Colab\"/></a>"
      ]
    },
    {
      "cell_type": "markdown",
      "metadata": {
        "id": "-uXNalHfQ3G2"
      },
      "source": [
        "# **ColabFold-Pipeline-Toolkit**: Pre-Processing\n",
        "<img src=\"https://github.com/andyposbe/ColabFold-Pipeline-Toolkit/blob/main/pre_processing_1.png?raw=true\" height=\"200\" align=\"right\" style=\"height:200px\">\n",
        "\n",
        "\n",
        "\n",
        "This notebook helps with file preparation for submission to [ColabFold BATCH](https://colab.research.google.com/github/sokrypton/ColabFold/blob/main/batch/AlphaFold2_batch.ipynb).\n",
        "\n",
        "## Operations covered\n",
        "\n",
        "1. Fasta combiner for AF2-Multimer\n",
        "2. Homo-multimer fasta preparation\n",
        "3. Multifasta demultiplexer\n",
        "\n",
        "\n",
        "---\n",
        "**Author:** Andres Posbeyikian\n",
        "**Date:** August 27th, 2023\n",
        "\n",
        "For more details, checkout the [ColabFold-Pipeline-Toolkit GitHub](https://github.com/andyposbe/ColabFold-Pipeline-Toolkit)\n",
        "![GitHub](https://img.shields.io/badge/github-%23121011.svg?style=plastic&logo=github&logoColor=white)\n",
        "\n",
        "To cite this tool, refer to this Zenodo: [ ]."
      ]
    },
    {
      "cell_type": "markdown",
      "source": [
        "# Mounting the drive and importing libraries"
      ],
      "metadata": {
        "id": "QiOFv2tGJzTG"
      }
    },
    {
      "cell_type": "code",
      "execution_count": 30,
      "metadata": {
        "cellView": "form",
        "colab": {
          "base_uri": "https://localhost:8080/"
        },
        "id": "liAWyy07Eqmr",
        "outputId": "3c65ce2c-993c-4acb-9104-0893a81d8313"
      },
      "outputs": [
        {
          "output_type": "stream",
          "name": "stdout",
          "text": [
            "Mounted at /content/gdrive\n"
          ]
        }
      ],
      "source": [
        "#@title Mount google drive\n",
        "from google.colab import drive\n",
        "drive.mount('/content/gdrive')"
      ]
    },
    {
      "cell_type": "code",
      "execution_count": 98,
      "metadata": {
        "cellView": "form",
        "id": "kbEtJIm8E4kq"
      },
      "outputs": [],
      "source": [
        "#@title Import libraries\n",
        "from pathlib import Path\n",
        "import glob\n",
        "import os\n",
        "import io\n",
        "import json\n",
        "import scipy\n",
        "from google.colab import files\n",
        "import numpy as np\n",
        "import numpy\n",
        "import json\n",
        "import pandas as pd\n",
        "import seaborn as sns\n",
        "import openpyxl\n",
        "import matplotlib.pyplot as plt\n",
        "import matplotlib\n",
        "import plotly.graph_objects as go\n",
        "from plotly.subplots import make_subplots\n",
        "import plotly.subplots as sp\n",
        "import plotly.express as px\n",
        "import ipywidgets as widgets"
      ]
    },
    {
      "cell_type": "markdown",
      "source": [
        "# 1. Fasta combiner for Multimer\n",
        "Execute the cells below to prepare the fasta files for input into ColabFold BATCH. Specify the Google Drive directories where each pool of proteins was uploaded."
      ],
      "metadata": {
        "id": "OqKXXxBQEnd6"
      }
    },
    {
      "cell_type": "code",
      "execution_count": 91,
      "metadata": {
        "cellView": "form",
        "id": "8yWR_DlRFDg3"
      },
      "outputs": [],
      "source": [
        "#@title Input/Output directories\n",
        "\n",
        "#Monomer_directory = '/content/drive/MyDrive/Project/monomer_fastas' # @param {type:\"string\"}\n",
        "Pool_A_directory = '/content/gdrive/MyDrive/Project/Pool_A_fastas' # @param {type:\"string\"}\n",
        "Pool_A_directory = Pool_A_directory.rstrip('/')\n",
        "Pool_B_directory = '/content/gdrive/MyDrive/Project/Pool_B_fastas' # @param {type:\"string\"}\n",
        "Pool_B_directory = Pool_B_directory.rstrip('/')\n",
        "\n",
        "output_dir = '/content/gdrive/MyDrive/Project/output' #@param {type:\"string\"}\n",
        "output_dir = output_dir.rstrip('/')"
      ]
    },
    {
      "cell_type": "code",
      "source": [
        "#@title Import the fasta files\n",
        "Pool_A_list = []\n",
        "Pool_B_list = []\n",
        "\n",
        "# Load files from each directory into lists\n",
        "for file in glob.glob(Pool_A_directory+'/*.fasta'):\n",
        "  Pool_A_list.append(file.split('/')[-1])\n",
        "\n",
        "for file in glob.glob(Pool_B_directory+'/*.fasta'):\n",
        "  Pool_B_list.append(file.split('/')[-1])\n",
        "\n",
        "Pool_A_list.sort()\n",
        "Pool_B_list.sort()"
      ],
      "metadata": {
        "cellView": "form",
        "id": "ju9CIQsXjEtg"
      },
      "execution_count": 102,
      "outputs": []
    },
    {
      "cell_type": "code",
      "source": [
        "#@title Select the proteins of interest from **Pool A**\n",
        "\n",
        "\n",
        "select_multiple_widget = widgets.SelectMultiple(\n",
        "    options= Pool_A_list,\n",
        "    description='Pool A',\n",
        "    disabled=False,\n",
        "    #ålayout=widgets.Layout(height='200px', width='auto')\n",
        ")\n",
        "# Global list to store selected items\n",
        "selected_items_list_A = []\n",
        "\n",
        "# Function to update the list based on selection\n",
        "def update_list(change):\n",
        "    global selected_items_list_A\n",
        "    selected_items_list_A = list(change['new'])\n",
        "\n",
        "# Attach the update function to the 'value' trait of the widget\n",
        "select_multiple_widget.observe(update_list, names='value')\n",
        "\n",
        "# Display the widget\n",
        "display(select_multiple_widget)"
      ],
      "metadata": {
        "colab": {
          "base_uri": "https://localhost:8080/",
          "height": 111,
          "referenced_widgets": [
            "87b419f793784573af20883bc3899213",
            "cd30de46857640a0805a61b100a635c3",
            "3ddfa3d6b1204ad9aa423f47c8ba237b"
          ]
        },
        "cellView": "form",
        "id": "1L3IBfbGg9ml",
        "outputId": "5bcded9b-6f4e-4617-81c0-d1572727fb25"
      },
      "execution_count": 103,
      "outputs": [
        {
          "output_type": "display_data",
          "data": {
            "text/plain": [
              "SelectMultiple(description='Pool A', options=('Effector_00_trim.fasta', 'Effector_01_trim.fasta', 'Effector_02…"
            ],
            "application/vnd.jupyter.widget-view+json": {
              "version_major": 2,
              "version_minor": 0,
              "model_id": "87b419f793784573af20883bc3899213"
            }
          },
          "metadata": {}
        }
      ]
    },
    {
      "cell_type": "code",
      "source": [
        "#@title Select the proteins of interest from **Pool B**\n",
        "# Create the SelectMultiple widget\n",
        "select_multiple_widget = widgets.SelectMultiple(\n",
        "    options=Pool_B_list,\n",
        "    description='Pool B',\n",
        "    disabled=False,\n",
        "    layout=widgets.Layout(height='200px', width='auto')\n",
        ")\n",
        "# Global list to store selected items\n",
        "selected_items_list_B = []\n",
        "\n",
        "# Function to update the list based on selection\n",
        "def update_list(change):\n",
        "    global selected_items_list_B\n",
        "    selected_items_list_B = list(change['new'])\n",
        "\n",
        "# Attach the update function to the 'value' trait of the widget\n",
        "select_multiple_widget.observe(update_list, names='value')\n",
        "\n",
        "# Display the widget\n",
        "display(select_multiple_widget)"
      ],
      "metadata": {
        "colab": {
          "base_uri": "https://localhost:8080/",
          "height": 221,
          "referenced_widgets": [
            "d2416227143642cfae8284bbef7fe9c9",
            "6466b3d00fc440d9a3a4104c64a32156",
            "b9401b1d0f534085a83be7f725a7052d"
          ]
        },
        "cellView": "form",
        "id": "QqRstgCqlrP8",
        "outputId": "e4c304f3-b7df-42b1-bf4b-7d67eed2bc15"
      },
      "execution_count": 104,
      "outputs": [
        {
          "output_type": "display_data",
          "data": {
            "text/plain": [
              "SelectMultiple(description='Pool B', layout=Layout(height='200px', width='auto'), options=('000_ID_000_PKin_Zm…"
            ],
            "application/vnd.jupyter.widget-view+json": {
              "version_major": 2,
              "version_minor": 0,
              "model_id": "d2416227143642cfae8284bbef7fe9c9"
            }
          },
          "metadata": {}
        }
      ]
    },
    {
      "cell_type": "code",
      "source": [
        "#@title Combine fastas for ColabFold BATCH and save to `output_dir`\n",
        "def read_single_fasta(file_path):\n",
        "    \"\"\"Reads a single-record FASTA file and returns a tuple (header, sequence).\"\"\"\n",
        "    with open(file_path, 'r') as file:\n",
        "        header = None\n",
        "        sequence = []\n",
        "\n",
        "        for line in file:\n",
        "            if line.startswith(\">\"):\n",
        "                if header is not None:\n",
        "                    break  # Stop if another header is found, assuming only one sequence in the file\n",
        "                header = line.strip()[1:]  # Remove '>' and newline\n",
        "            else:\n",
        "                sequence.append(line.strip())\n",
        "\n",
        "        return header, ''.join(sequence)\n",
        "\n",
        "\n",
        "i = 0\n",
        "for pool_A_file in selected_items_list_A:\n",
        "  header_A,sequence_A = read_single_fasta(os.path.join(Pool_A_directory,pool_A_file))\n",
        "  for pool_B_file in selected_items_list_B:\n",
        "      header_B,sequence_B = read_single_fasta(os.path.join(Pool_B_directory, pool_B_file))\n",
        "\n",
        "      fused_header = '>' + header_A + header_B\n",
        "      fused_sequence = sequence_A + ':' + sequence_B\n",
        "      output_path = os.path.join(output_dir, \"{:03d}\".format((i))+'_'+ pool_A_file.strip('.fasta') + '_' + pool_B_file)\n",
        "\n",
        "      with open(output_path, 'w') as output_file:\n",
        "        output_file.write(fused_header + '\\n')\n",
        "        output_file.write(fused_sequence)\n",
        "        i += 1\n",
        "\n",
        "\n",
        "\n"
      ],
      "metadata": {
        "cellView": "form",
        "id": "44tVBCQhoV7e"
      },
      "execution_count": 109,
      "outputs": []
    },
    {
      "cell_type": "markdown",
      "source": [
        "\n",
        "\n",
        "---\n",
        "\n"
      ],
      "metadata": {
        "id": "ngJbgkv5Iehf"
      }
    },
    {
      "cell_type": "markdown",
      "source": [
        "# 2. Homo-multimer fasta preparation"
      ],
      "metadata": {
        "id": "ansO86IbHW6Q"
      }
    },
    {
      "cell_type": "code",
      "source": [
        "#@title Input/Output directories\n",
        "oligomeric_state = 'tetramer' # @param [\"dimer\", \"trimer\", \"tetramer\",\"pentamer\",\"hexamer\",\"heptamer\",\"octamer\",\"nonamer\",\"decamer\"]\n",
        "\n",
        "input_dir = '/content/gdrive/MyDrive/Project/input' # @param {type:\"string\"}\n",
        "input_dir = input_dir.rstrip('/')\n",
        "output_dir = '/content/gdrive/MyDrive/Project/output' #@param {type:\"string\"}\n",
        "output_dir = output_dir.rstrip('/')"
      ],
      "metadata": {
        "cellView": "form",
        "id": "k2D29GHFHkfg"
      },
      "execution_count": 116,
      "outputs": []
    },
    {
      "cell_type": "code",
      "source": [
        "#@title Import fasta files\n",
        "monomer_file_list = []\n",
        "\n",
        "# Load files from each directory into lists\n",
        "for file in glob.glob(input_dir+'/*.fasta'):\n",
        "  monomer_file_list.append(file.split('/')[-1])\n",
        "\n",
        "monomer_file_list.sort()"
      ],
      "metadata": {
        "cellView": "form",
        "id": "6eitrigF2Lpb"
      },
      "execution_count": 117,
      "outputs": []
    },
    {
      "cell_type": "code",
      "source": [
        "#@title Generate homo-oligomer fasta files and save in `output_dir`\n",
        "def read_single_fasta(file_path):\n",
        "    \"\"\"Reads a single-record FASTA file and returns a tuple (header, sequence).\"\"\"\n",
        "    with open(file_path, 'r') as file:\n",
        "        header = None\n",
        "        sequence = []\n",
        "\n",
        "        for line in file:\n",
        "            if line.startswith(\">\"):\n",
        "                if header is not None:\n",
        "                    break  # Stop if another header is found, assuming only one sequence in the file\n",
        "                header = line.strip()[1:]  # Remove '>' and newline\n",
        "            else:\n",
        "                sequence.append(line.strip())\n",
        "\n",
        "        return header, ''.join(sequence)\n",
        "\n",
        "\n",
        "oligomeric_state_dictionary = {'dimer':2,\n",
        "                               'trimer':3,\n",
        "                               'tetramer':4,\n",
        "                               'pentamer':5,\n",
        "                               'hexamer':6,\n",
        "                               'heptamer':7,\n",
        "                               'octamer': 8,\n",
        "                               'nonamer':9,\n",
        "                               'decamer':10}\n",
        "\n",
        "i = 0\n",
        "for monomer_file in monomer_file_list:\n",
        "  monomer_header,monomer_sequence = read_single_fasta(os.path.join(input_dir,monomer_file))\n",
        "\n",
        "  oligomeric_header = '>'+ monomer_header + '_' + oligomeric_state\n",
        "  oligomeric_sequence = ':'.join([monomer_sequence]*oligomeric_state_dictionary[oligomeric_state])\n",
        "  output_path = os.path.join(output_dir, \"{:03d}\".format((i))+'_'+ oligomeric_header[1:]+'.fasta')\n",
        "  with open(output_path, 'w') as output_file:\n",
        "    output_file.write(oligomeric_header + '\\n')\n",
        "    output_file.write(oligomeric_sequence)\n",
        "    i += 1\n",
        ""
      ],
      "metadata": {
        "cellView": "form",
        "id": "_oQF_0vI3KPP"
      },
      "execution_count": 122,
      "outputs": []
    },
    {
      "cell_type": "markdown",
      "source": [
        "\n",
        "\n",
        "---\n",
        "\n"
      ],
      "metadata": {
        "id": "_8dTsCOGIc06"
      }
    },
    {
      "cell_type": "markdown",
      "source": [
        "# 3. Multifasta Demultiplexer\n",
        "ColabFold BATCH reads individual fasta files, but sometimes we have a multifasta file that we need to de-multiplex in order to feed into the pipeline. The code below does just that.\n",
        "\n",
        "Specify the **directory** where you want the individual fasta files to be saved, and **upload the multifasta file below**."
      ],
      "metadata": {
        "id": "F3feGpHRF4NE"
      }
    },
    {
      "cell_type": "code",
      "source": [
        "#@title Specify output directory and execute cell to upload multifasta\n",
        "\n",
        "output_dir = '/content/gdrive/My Drive/output/' #@param {type:\"string\"}\n",
        "output_dir = output_dir.rstrip('/')\n",
        "\n",
        "# Upload the multifasta file\n",
        "from google.colab import files\n",
        "uploaded = files.upload()\n",
        "file_name = next(iter(uploaded))\n",
        "file_path = \"/content/\" + file_name"
      ],
      "metadata": {
        "cellView": "form",
        "id": "KlAoF72HIhu8"
      },
      "execution_count": null,
      "outputs": []
    },
    {
      "cell_type": "code",
      "source": [
        "#@title Demultiplex fasta file\n",
        "def demultiplex_fasta(input_file, output_dir):\n",
        "    \"\"\"\n",
        "    Reads a multi-FASTA file and creates individual FASTA files for each sequence.\n",
        "\n",
        "    Args:\n",
        "    input_file (str): Path to the multi-FASTA file.\n",
        "    output_dir (str): Directory where the individual FASTA files will be saved.\n",
        "    \"\"\"\n",
        "    import os\n",
        "    import numpy as np\n",
        "\n",
        "    # Create the output directory if it doesn't exist\n",
        "    if not os.path.exists(output_dir):\n",
        "        os.makedirs(output_dir)\n",
        "\n",
        "    with open(input_file, 'r') as file:\n",
        "        content = file.read().split('>')[1:]  # Split the file by '>' and remove the first empty string\n",
        "        record_index = 0\n",
        "        for record in content:\n",
        "            lines = record.split('\\n')\n",
        "            header = lines[0].split()[0]  # Get the first word of the header line\n",
        "            sequence = ''.join(lines[1:])  # Join the remaining lines as the sequence\n",
        "\n",
        "            output_path = os.path.join(output_dir, \"{:03d}\".format((record_index))+'_'+ header + '.fasta')\n",
        "            with open(output_path, 'w') as output_file:\n",
        "                output_file.write('>' + record)\n",
        "\n",
        "            record_index += 1\n",
        "\n",
        "demultiplex_fasta(file_path, output_dir)"
      ],
      "metadata": {
        "id": "BjzTo6hLLqT4",
        "cellView": "form"
      },
      "execution_count": 36,
      "outputs": []
    }
  ],
  "metadata": {
    "colab": {
      "provenance": [],
      "machine_shape": "hm",
      "include_colab_link": true
    },
    "kernelspec": {
      "display_name": "Python 3",
      "name": "python3"
    },
    "language_info": {
      "name": "python"
    },
    "widgets": {
      "application/vnd.jupyter.widget-state+json": {
        "87b419f793784573af20883bc3899213": {
          "model_module": "@jupyter-widgets/controls",
          "model_name": "SelectMultipleModel",
          "model_module_version": "1.5.0",
          "state": {
            "_dom_classes": [],
            "_model_module": "@jupyter-widgets/controls",
            "_model_module_version": "1.5.0",
            "_model_name": "SelectMultipleModel",
            "_options_labels": [
              "Effector_00_trim.fasta",
              "Effector_01_trim.fasta",
              "Effector_02_trim.fasta",
              "Effector_03_trim.fasta"
            ],
            "_view_count": null,
            "_view_module": "@jupyter-widgets/controls",
            "_view_module_version": "1.5.0",
            "_view_name": "SelectMultipleView",
            "description": "Pool A",
            "description_tooltip": null,
            "disabled": false,
            "index": [
              0
            ],
            "layout": "IPY_MODEL_cd30de46857640a0805a61b100a635c3",
            "rows": 5,
            "style": "IPY_MODEL_3ddfa3d6b1204ad9aa423f47c8ba237b"
          }
        },
        "cd30de46857640a0805a61b100a635c3": {
          "model_module": "@jupyter-widgets/base",
          "model_name": "LayoutModel",
          "model_module_version": "1.2.0",
          "state": {
            "_model_module": "@jupyter-widgets/base",
            "_model_module_version": "1.2.0",
            "_model_name": "LayoutModel",
            "_view_count": null,
            "_view_module": "@jupyter-widgets/base",
            "_view_module_version": "1.2.0",
            "_view_name": "LayoutView",
            "align_content": null,
            "align_items": null,
            "align_self": null,
            "border": null,
            "bottom": null,
            "display": null,
            "flex": null,
            "flex_flow": null,
            "grid_area": null,
            "grid_auto_columns": null,
            "grid_auto_flow": null,
            "grid_auto_rows": null,
            "grid_column": null,
            "grid_gap": null,
            "grid_row": null,
            "grid_template_areas": null,
            "grid_template_columns": null,
            "grid_template_rows": null,
            "height": null,
            "justify_content": null,
            "justify_items": null,
            "left": null,
            "margin": null,
            "max_height": null,
            "max_width": null,
            "min_height": null,
            "min_width": null,
            "object_fit": null,
            "object_position": null,
            "order": null,
            "overflow": null,
            "overflow_x": null,
            "overflow_y": null,
            "padding": null,
            "right": null,
            "top": null,
            "visibility": null,
            "width": null
          }
        },
        "3ddfa3d6b1204ad9aa423f47c8ba237b": {
          "model_module": "@jupyter-widgets/controls",
          "model_name": "DescriptionStyleModel",
          "model_module_version": "1.5.0",
          "state": {
            "_model_module": "@jupyter-widgets/controls",
            "_model_module_version": "1.5.0",
            "_model_name": "DescriptionStyleModel",
            "_view_count": null,
            "_view_module": "@jupyter-widgets/base",
            "_view_module_version": "1.2.0",
            "_view_name": "StyleView",
            "description_width": ""
          }
        },
        "d2416227143642cfae8284bbef7fe9c9": {
          "model_module": "@jupyter-widgets/controls",
          "model_name": "SelectMultipleModel",
          "model_module_version": "1.5.0",
          "state": {
            "_dom_classes": [],
            "_model_module": "@jupyter-widgets/controls",
            "_model_module_version": "1.5.0",
            "_model_name": "SelectMultipleModel",
            "_options_labels": [
              "000_ID_000_PKin_Zm-B73.fasta",
              "001_ID_001_PKin_Zm-B73.fasta",
              "002_ID_002_OTHER_Zm-B73.fasta",
              "003_ID_003_OTHER_Zm-B73.fasta",
              "004_ID_004_PKin_Zm-B73.fasta",
              "005_ID_005_OTHER_Zm-B73.fasta",
              "006_ID_006_OTHER_Zm-B73.fasta",
              "007_ID_007_ARM_Zm-B73.fasta",
              "008_ID_013_PKin_Zm-B73.fasta",
              "009_ID_014_ARM_Zm-B73.fasta",
              "010_ID_015_PKin_Zm-B73.fasta",
              "011_ID_016_PKin_Zm-B73.fasta",
              "012_ID_017_PKin_Zm-B73.fasta",
              "013_ID_018_OTHER_Zm-EP1.fasta",
              "014_ID_019_HMA_Zm-EP1.fasta",
              "015_ID_020_PKin_Zm-EP1.fasta",
              "016_ID_021_ARM_Zm-EP1.fasta",
              "017_ID_023_OTHER_Zm-EP1.fasta",
              "018_ID_024_WRKY_Zm-EP1.fasta",
              "019_ID_025_PKin_Zm-EP1.fasta",
              "020_ID_026_PKin_Zm-EP1.fasta",
              "021_ID_027_PKin_Zm-EP1.fasta",
              "022_ID_029_PKin_Zm-CML69.fasta",
              "023_ID_030_OTHER_Zm-CML69.fasta",
              "024_ID_032_HMA_Zm-CML69.fasta",
              "025_ID_033_TRANSPOSON_Zm-CML69.fasta",
              "026_ID_034_PKin_Zm-CML69.fasta",
              "027_ID_035_PLOOP_Zm-CML69.fasta",
              "028_ID_036_ARM_Zm-CML69.fasta",
              "029_ID_037_ARM_Zm-CML69.fasta",
              "030_ID_038_PKin_Zm-CML69.fasta",
              "031_ID_039_ARM_Zm-CML69.fasta",
              "032_ID_040_PKin_Zm-CML69.fasta",
              "033_ID_041_OTHER_Zm-CML69.fasta",
              "034_ID_043_PKin_Zm-NC350.fasta",
              "035_ID_044_ARM_Zm-NC350.fasta",
              "036_ID_045_ARM_Zm-NC350.fasta",
              "037_ID_047_OTHER_Zm-NC350.fasta",
              "038_ID_048_OTHER_Zm-PE0075.fasta",
              "039_ID_049_HMA_Zm-PE0075.fasta",
              "040_ID_050_PKin_Zm-PE0075.fasta",
              "041_ID_051_PKin_Zm-PE0075.fasta",
              "042_ID_052_PKin_Zm-Ky21.fasta",
              "043_ID_053_PKin_Zm-Ky21.fasta",
              "044_ID_055_PKin_Zm-Ky21.fasta",
              "045_ID_056_OTHER_Zm-Ky21.fasta",
              "046_ID_057_OTHER_Zm-Ky21.fasta",
              "047_ID_059_PKin_Zm-Ky21.fasta",
              "048_ID_060_OTHER_Zm-Ky21.fasta",
              "049_ID_061_OTHER_Zm-NC358.fasta",
              "050_ID_062_ARM_Zm-NC358.fasta",
              "051_ID_064_PKin_Zm-HP301.fasta",
              "052_ID_065_PKin_Zm-HP301.fasta",
              "053_ID_066_PKin_Zm-HP301.fasta",
              "054_ID_067_PKin_Zm-HP301.fasta",
              "055_ID_068_PKin_Zm-HP301.fasta",
              "056_ID_069_PKin_Zm-HP301.fasta",
              "057_ID_070_OTHER_Zm-HP301.fasta",
              "058_ID_071_PKin_Zm-Ms71.fasta",
              "059_ID_072_PKin_Zm-Ms71.fasta",
              "060_ID_073_PKin_Zm-Ms71.fasta",
              "061_ID_074_OTHER_Zm-Ms71.fasta",
              "062_ID_075_OTHER_Zm-Mo18W.fasta",
              "063_ID_076_ARM_Zm-Mo18W.fasta",
              "064_ID_077_WRKY_Zm-Mo18W.fasta",
              "065_ID_078_PKin_Zm-Mo18W.fasta",
              "066_ID_080_OTHER_Zm-Tzi8.fasta",
              "067_ID_081_PKin_Zm-Tzi8.fasta",
              "068_ID_082_TRANSPOSON_Zm-Tzi8.fasta",
              "069_ID_083_PLOOP_Zm-Tzi8.fasta",
              "070_ID_084_OTHER_Zm-Tzi8.fasta",
              "071_ID_085_PKin_Zm-SK.fasta",
              "072_ID_086_PKin_Zm-SK.fasta",
              "073_ID_087_PKin_Zm-SK.fasta",
              "074_ID_088_OTHER_Zm-SK.fasta",
              "075_ID_089_OTHER_Zm-SK.fasta",
              "076_ID_090_OTHER_Zm-SK.fasta",
              "077_ID_092_PLOOP_Zm-SK.fasta",
              "078_ID_093_OTHER_Zm-SK.fasta",
              "079_ID_094_TRANSPOSON_Zm-SK.fasta",
              "080_ID_096_PKin_Zm-SK.fasta",
              "081_ID_097_OTHER_Zm-SK.fasta",
              "082_ID_098_PKin_Zm-Dan340.fasta",
              "083_ID_100_OTHER_Zm-CML52.fasta",
              "084_ID_101_PKin_Zm-Ia453.fasta",
              "085_ID_102_PKin_Zm-Ia453.fasta",
              "086_ID_103_PKin_Zm-Ia453.fasta",
              "087_ID_105_OTHER_Zm-Ia453.fasta",
              "088_ID_106_OTHER_Zm-Ia453.fasta",
              "089_ID_108_PKin_Zm-Ia453.fasta",
              "090_ID_109_OTHER_Zm-Ia453.fasta",
              "091_ID_111_OTHER_Zm-Ia453.fasta",
              "092_ID_112_OTHER_Zm-Ia453.fasta",
              "093_ID_113_ARM_Zm-Ia453.fasta",
              "094_ID_114_OTHER_Zm-Ia453.fasta",
              "095_ID_116_OTHER_Zm-Ia453.fasta",
              "096_ID_117_OTHER_Zm-Ia453.fasta",
              "097_ID_118_PKin_Zm-Ia453.fasta",
              "098_ID_119_PKin_Zm-Ia453.fasta",
              "099_ID_120_OTHER_Zm-Ia453.fasta",
              "100_ID_121_PLOOP_Zm-Ia453.fasta",
              "101_ID_122_PLOOP_Zm-Ia453.fasta",
              "102_ID_123_OTHER_Zm-Ia453.fasta",
              "103_ID_124_OTHER_Zm-Ia453.fasta",
              "104_ID_125_OTHER_Zm-Ia453.fasta",
              "105_ID_126_OTHER_Zm-Ia453.fasta",
              "106_ID_127_OTHER_Zm-Ia453.fasta",
              "107_ID_130_OTHER_Zm-Ia453.fasta",
              "108_ID_131_OTHER_Zm-Ia453.fasta",
              "109_ID_133_OTHER_Zm-Ia453.fasta",
              "110_ID_135_OTHER_Zm-Ia453.fasta",
              "111_ID_136_OTHER_Zm-Ia453.fasta",
              "112_ID_138_OTHER_Zm-Ia453.fasta",
              "113_ID_139_OTHER_Zm-Ia453.fasta",
              "114_ID_140_OTHER_Zm-Ia453.fasta",
              "115_ID_141_OTHER_Zm-Ia453.fasta",
              "116_ID_142_OTHER_Zm-Ia453.fasta",
              "117_ID_143_PLOOP_Zm-Ia453.fasta",
              "118_ID_144_OTHER_Zm-Ia453.fasta",
              "119_ID_145_OTHER_Zm-Ia453.fasta",
              "120_ID_146_OTHER_Zm-Ia453.fasta",
              "121_ID_147_OTHER_Zm-Ia453.fasta",
              "122_ID_148_OTHER_Zm-Ia453.fasta",
              "123_ID_150_ARM_Zm-Mo17.fasta",
              "124_ID_151_OTHER_Zm-Mo17.fasta",
              "125_ID_152_OTHER_Zm-Mo17.fasta",
              "126_ID_153_OTHER_Zm-Mo17.fasta",
              "127_ID_154_PKin_Zm-Mo17.fasta",
              "128_ID_155_OTHER_Zm-Mo17.fasta",
              "129_ID_156_OTHER_Zm-Mo17.fasta",
              "130_ID_158_OTHER_Zm-Mo17.fasta",
              "131_ID_160_OTHER_Zm-Mo17.fasta",
              "132_ID_161_TPR_Zm-Mo17.fasta",
              "133_ID_162_OTHER_Zm-Mo17.fasta",
              "134_ID_163_OTHER_Zm-Mo17.fasta",
              "135_ID_165_OTHER_Zm-DK105.fasta",
              "136_ID_166_PKin_Zm-DK105.fasta",
              "137_ID_167_PKin_Zm-DK105.fasta",
              "138_ID_168_PKin_Zm-DK105.fasta",
              "139_ID_169_PKin_Zm-Tx303.fasta",
              "140_ID_170_PKin_Zm-Tx303.fasta",
              "141_ID_172_PKin_Zm-Tx303.fasta",
              "142_ID_173_OTHER_Zm-CML277.fasta",
              "143_ID_174_PKin_Zm-CML277.fasta",
              "144_ID_175_PKin_Zm-CML277.fasta",
              "145_ID_176_OTHER_Zm-CML277.fasta",
              "146_ID_178_OTHER_Zm-CML277.fasta",
              "147_ID_181_PKin_Zm-CML277.fasta",
              "148_ID_182_OTHER_Zh-RIMHU001.fasta",
              "149_ID_183_PKin_Zh-RIMHU001.fasta",
              "150_ID_184_OTHER_Zh-RIMHU001.fasta",
              "151_ID_185_ARM_Zh-RIMHU001.fasta",
              "152_ID_187_WRKY_Zh-RIMHU001.fasta",
              "153_ID_188_ARM_Zh-RIMHU001.fasta",
              "154_ID_189_PKin_Zh-RIMHU001.fasta",
              "155_ID_190_PKin_Zh-RIMHU001.fasta",
              "156_ID_191_PKin_Zm-B97.fasta",
              "157_ID_192_PLOOP-OTHER_Zn-PI615697.fasta",
              "158_ID_193_HMA_Zn-PI615697.fasta",
              "159_ID_194_PKin_Zn-PI615697.fasta",
              "160_ID_195_PKin_Zn-PI615697.fasta",
              "161_ID_196_OTHER_Zx-TIL25.fasta",
              "162_ID_197_ARM_Zx-TIL25.fasta",
              "163_ID_199_PKin_Zx-TIL25.fasta",
              "164_ID_200_PKin_Zx-TIL25.fasta",
              "165_ID_201_PKin_Zx-TIL25.fasta",
              "166_ID_203_PKin_Zm-CML333.fasta",
              "167_ID_204_PKin_Zm-CML333.fasta",
              "168_ID_205_PKin_Zm-CML333.fasta",
              "169_ID_206_OTHER_Zm-CML333.fasta",
              "170_ID_208_PKin_Zm-CML247.fasta",
              "171_ID_209_ARM_Zm-CML247.fasta",
              "172_ID_210_PKin_Zm-B73_AB10.fasta",
              "173_ID_211_PKin_Zm-B73_AB10.fasta",
              "174_ID_212_PKin_Zm-Oh43.fasta",
              "175_ID_213_OTHER_Zm-Oh43.fasta",
              "176_ID_214_PKin_Zm-Oh43.fasta",
              "177_ID_215_OTHER_Zm-Oh43.fasta",
              "178_ID_217_OTHER_Zm-CML228.fasta",
              "179_ID_219_OTHER_Zm-CML228.fasta",
              "180_ID_220_OTHER_Zm-CML228.fasta",
              "181_ID_222_OTHER_Zm-CML228.fasta",
              "182_ID_223_TRANSPOSON_Zd-Gigi.fasta",
              "183_ID_224_PKin_Zd-Gigi.fasta",
              "184_ID_225_PKin_Zd-Gigi.fasta",
              "185_ID_226_OTHER_Zd-Gigi.fasta",
              "186_ID_227_ARM_Zd-Gigi.fasta",
              "187_ID_228_PKin_Zd-Gigi.fasta",
              "188_ID_229_ARM_Zd-Gigi.fasta",
              "189_ID_230_PKin_Zd-Gigi.fasta",
              "190_ID_231_PKin_Zd-Gigi.fasta",
              "191_ID_232_PKin_Zm-M162W.fasta",
              "192_ID_233_OTHER_Zm-M162W.fasta",
              "193_ID_234_ARM_Zm-M162W.fasta",
              "194_ID_235_ARM_Zm-M162W.fasta",
              "195_ID_236_PKin_Zm-A188.fasta",
              "196_ID_237_OTHER_Zm-A188.fasta",
              "197_ID_238_PKin_Zm-A188.fasta",
              "198_ID_239_OTHER_Zm-A188.fasta",
              "199_ID_240_OTHER_Zm-A188.fasta",
              "200_ID_241_OTHER_Zm-A188.fasta",
              "201_ID_242_OTHER_Zm-A188.fasta",
              "202_ID_243_OTHER_Zm-A188.fasta",
              "203_ID_244_OTHER_Zm-A188.fasta",
              "204_ID_245_PLOOP_Zm-A188.fasta",
              "205_ID_246_OTHER_Zm-A188.fasta",
              "206_ID_247_WRKY_Zm-A188.fasta",
              "207_ID_248_PLOOP-OTHER_Zm-A188.fasta",
              "208_ID_250_OTHER_Zm-K0326Y.fasta",
              "209_ID_252_PKin_Zm-K0326Y.fasta",
              "210_ID_253_ARM_Zm-K0326Y.fasta",
              "211_ID_254_OTHER_Zm-K0326Y.fasta",
              "212_ID_255_OTHER_Zm-K0326Y.fasta",
              "213_ID_256_OTHER_Zm-K0326Y.fasta",
              "214_ID_257_OTHER_Zm-K0326Y.fasta",
              "215_ID_258_OTHER_Zm-K0326Y.fasta",
              "216_ID_260_OTHER_Zm-K0326Y.fasta",
              "217_ID_261_OTHER_Zm-K0326Y.fasta",
              "218_ID_262_OTHER_Zm-K0326Y.fasta",
              "219_ID_263_OTHER_Zm-K0326Y.fasta",
              "220_ID_264_OTHER_Zm-K0326Y.fasta",
              "221_ID_265_OTHER_Zm-K0326Y.fasta",
              "222_ID_269_OTHER_Zm-K0326Y.fasta",
              "223_ID_270_HMA_Zm-CML103.fasta",
              "224_ID_271_PKin_Zm-CML103.fasta",
              "225_ID_272_ARM_Zm-CML103.fasta",
              "226_ID_274_OTHER_Zm-CML103.fasta",
              "227_ID_275_OTHER_Zm-Ki3.fasta",
              "228_ID_276_PKin_Zm-Ki3.fasta",
              "229_ID_277_PKin_Zv-TIL11.fasta",
              "230_ID_278_OTHER_Zv-TIL11.fasta",
              "231_ID_279_OTHER_Zv-TIL11.fasta",
              "232_ID_280_ARM_Zv-TIL11.fasta",
              "233_ID_281_ARM_Zv-TIL11.fasta",
              "234_ID_283_PKin_Zv-TIL11.fasta",
              "235_ID_284_PLOOP_Zm-B73.fasta",
              "236_ID_285_OTHER_Zm-B73.fasta",
              "237_ID_286_PKin_Zm-B73.fasta",
              "238_ID_287_PKin_Zm-B73.fasta",
              "239_ID_288_TRANSPOSON_Zm-B73.fasta",
              "240_ID_290_OTHER_Zm-B73.fasta",
              "241_ID_291_PLOOP-OTHER_Zm-B73.fasta",
              "242_ID_292_TRANSPOSON_Zm-B73.fasta",
              "243_ID_293_PKin_Zm-B73.fasta",
              "244_ID_294_PKin_Zm-B73.fasta",
              "245_ID_295_PKin_Zm-B73.fasta",
              "246_ID_296_PKin_Zm-B73.fasta",
              "247_ID_298_OTHER_Zm-B73.fasta",
              "248_ID_299_PKin_Zd-Momo.fasta",
              "249_ID_300_OTHER_Zd-Momo.fasta",
              "250_ID_301_OTHER_Zd-Momo.fasta",
              "251_ID_302_ARM_Zd-Momo.fasta",
              "252_ID_303_ARM_Zd-Momo.fasta",
              "253_ID_305_PKin_Zd-Momo.fasta",
              "254_ID_306_ARM_Zd-Momo.fasta",
              "255_ID_307_PLOOP_Zm-Ki11.fasta",
              "256_ID_308_PKin_Zm-Ki11.fasta",
              "257_ID_309_OTHER_Zx-TIL18.fasta",
              "258_ID_310_ARM_Zx-TIL18.fasta",
              "259_ID_311_OTHER_Zx-TIL18.fasta",
              "260_ID_312_ARM_Zx-TIL18.fasta",
              "261_ID_313_OTHER_Zv-TIL01.fasta",
              "262_ID_314_HMA_Zv-TIL01.fasta",
              "263_ID_315_PKin_Zv-TIL01.fasta",
              "264_ID_316_PKin_Zv-TIL01.fasta",
              "265_ID_317_PKin_Zv-TIL01.fasta",
              "266_ID_318_OTHER_Zm-M37W.fasta",
              "267_ID_319_PLOOP-OTHER_Zm-W22.fasta",
              "268_ID_320_PKin_Zm-W22.fasta",
              "269_ID_321_OTHER_Zm-W22.fasta",
              "270_ID_322_OTHER_Zm-W22.fasta",
              "271_ID_323_OTHER_Zm-W22.fasta",
              "272_ID_326_OTHER_Zm-W22.fasta",
              "273_ID_327_OTHER_Zm-W22.fasta",
              "274_ID_328_PKin_Zm-F7.fasta",
              "275_ID_329_OTHER_Zm-PH207.fasta",
              "276_ID_330_OTHER_Zm-PH207.fasta",
              "277_ID_331_OTHER_Zm-PH207.fasta",
              "278_ID_332_OTHER_Zm-PH207.fasta",
              "279_ID_334_OTHER_Zm-PH207.fasta",
              "280_ID_335_PKin_Zm-CML322.fasta",
              "281_ID_336_PLOOP_Zm-CML322.fasta",
              "282_ID_337_OTHER_Zm-P39.fasta",
              "283_ID_338_PKin_Zm-P39.fasta"
            ],
            "_view_count": null,
            "_view_module": "@jupyter-widgets/controls",
            "_view_module_version": "1.5.0",
            "_view_name": "SelectMultipleView",
            "description": "Pool B",
            "description_tooltip": null,
            "disabled": false,
            "index": [
              0,
              1,
              2,
              3,
              4,
              5,
              6,
              7,
              8,
              9
            ],
            "layout": "IPY_MODEL_6466b3d00fc440d9a3a4104c64a32156",
            "rows": 5,
            "style": "IPY_MODEL_b9401b1d0f534085a83be7f725a7052d"
          }
        },
        "6466b3d00fc440d9a3a4104c64a32156": {
          "model_module": "@jupyter-widgets/base",
          "model_name": "LayoutModel",
          "model_module_version": "1.2.0",
          "state": {
            "_model_module": "@jupyter-widgets/base",
            "_model_module_version": "1.2.0",
            "_model_name": "LayoutModel",
            "_view_count": null,
            "_view_module": "@jupyter-widgets/base",
            "_view_module_version": "1.2.0",
            "_view_name": "LayoutView",
            "align_content": null,
            "align_items": null,
            "align_self": null,
            "border": null,
            "bottom": null,
            "display": null,
            "flex": null,
            "flex_flow": null,
            "grid_area": null,
            "grid_auto_columns": null,
            "grid_auto_flow": null,
            "grid_auto_rows": null,
            "grid_column": null,
            "grid_gap": null,
            "grid_row": null,
            "grid_template_areas": null,
            "grid_template_columns": null,
            "grid_template_rows": null,
            "height": "200px",
            "justify_content": null,
            "justify_items": null,
            "left": null,
            "margin": null,
            "max_height": null,
            "max_width": null,
            "min_height": null,
            "min_width": null,
            "object_fit": null,
            "object_position": null,
            "order": null,
            "overflow": null,
            "overflow_x": null,
            "overflow_y": null,
            "padding": null,
            "right": null,
            "top": null,
            "visibility": null,
            "width": "auto"
          }
        },
        "b9401b1d0f534085a83be7f725a7052d": {
          "model_module": "@jupyter-widgets/controls",
          "model_name": "DescriptionStyleModel",
          "model_module_version": "1.5.0",
          "state": {
            "_model_module": "@jupyter-widgets/controls",
            "_model_module_version": "1.5.0",
            "_model_name": "DescriptionStyleModel",
            "_view_count": null,
            "_view_module": "@jupyter-widgets/base",
            "_view_module_version": "1.2.0",
            "_view_name": "StyleView",
            "description_width": ""
          }
        }
      }
    }
  },
  "nbformat": 4,
  "nbformat_minor": 0
}